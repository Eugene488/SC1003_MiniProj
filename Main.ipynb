{
 "cells": [
  {
   "cell_type": "markdown",
   "id": "7f8292ed-0900-433c-9747-8599656be677",
   "metadata": {},
   "source": [
    "# Introduction\n",
    "Group members(& emails?):"
   ]
  },
  {
   "cell_type": "markdown",
   "id": "52b8612e-0ec5-440a-8f73-8c127bbf5047",
   "metadata": {},
   "source": [
    "# Table of contents\n",
    "TODO: titles with internal links to move there"
   ]
  },
  {
   "cell_type": "markdown",
   "id": "1ce1ec75-e2aa-4007-b69b-5bc2b7ad66bb",
   "metadata": {},
   "source": [
    "# Decomposition and breakdown\n",
    "\n",
    "blah blah"
   ]
  },
  {
   "cell_type": "markdown",
   "id": "5789d277-6b7e-4b5a-9c25-243b8c87dc45",
   "metadata": {},
   "source": [
    "# Analysis of data given (records.csv)"
   ]
  },
  {
   "cell_type": "markdown",
   "id": "b0d03c7a-c0a1-4904-b478-2c476d5fac6d",
   "metadata": {},
   "source": [
    "# Planning and design of algorithm\n",
    "insert diagram drawn by Cherry here"
   ]
  },
  {
   "cell_type": "markdown",
   "id": "78b063c2-5286-415b-ae07-ff2a79b1c407",
   "metadata": {},
   "source": [
    "## Flowchart and pseudocode\n",
    "\n",
    "lorem ipsum"
   ]
  },
  {
   "cell_type": "markdown",
   "id": "830b69ce-1ac2-4210-a5b0-0aad1d737950",
   "metadata": {},
   "source": [
    "# Excel things"
   ]
  },
  {
   "cell_type": "code",
   "execution_count": null,
   "id": "65866e7d-e55b-4886-832e-1500568af55b",
   "metadata": {},
   "outputs": [],
   "source": [
    "'''\n",
    "file = original excel file\n",
    "rawFileData = giant list where each item is a row converted into a single string\n",
    "fileHeader = first row \"Tutorial Group,Student ID,School,Name,Gender,CGPA\"\n",
    "fileData = each row in the file turned into a list of cells as strings\n",
    "studentData = list of dictionaries, each representing a student's data ('student ID', 'TG', 'School', 'Name', 'Gender', 'CGPA')"
   ]
  },
  {
   "cell_type": "code",
   "execution_count": 39,
   "id": "9f6afe4f-e289-4867-9fcc-03e5773eece8",
   "metadata": {},
   "outputs": [
    {
     "name": "stdout",
     "output_type": "stream",
     "text": [
      "['G-1', '5002', 'CCDS', 'Aarav Singh', 'Male', '4.02']\n"
     ]
    }
   ],
   "source": [
    "file = open(\"records.csv\", \"r\")\n",
    "rawFileData = file.readlines()\n",
    "fileData = []\n",
    "for i in rawFileData:\n",
    "    i = i.split(\",\")\n",
    "    i[5] = i[5].replace('\\n', '')\n",
    "    fileData.append(i)\n",
    "fileHeader = fileData.pop(0) #list of cells from first line\n",
    "\n",
    "print(fileData[0])"
   ]
  },
  {
   "cell_type": "code",
   "execution_count": 26,
   "id": "35a2ba2e-f8a2-4729-9604-6b3a414d4c03",
   "metadata": {},
   "outputs": [],
   "source": [
    "#global variables\n"
   ]
  },
  {
   "cell_type": "code",
   "execution_count": 27,
   "id": "2da36bad-c475-4c8d-8762-903eb992df7f",
   "metadata": {},
   "outputs": [],
   "source": [
    "def initStudents():      #creates studentData, a list of dictionaries, each representing a student\n",
    "    studentData = []\n",
    "    studentCount = 0\n",
    "    for row in fileData:\n",
    "        studentCount += 1\n",
    "        if row[4] == 'Male':\n",
    "            gender = True\n",
    "        elif row[4] == 'Female':\n",
    "            gender = False\n",
    "        studentData.append({'Student ID': int(row[1]),'TG': row[0], 'School': row[2], 'Name': row[3], 'Gender': gender, 'CGPA': float(row[5])})\n",
    "    return studentData"
   ]
  },
  {
   "cell_type": "code",
   "execution_count": 28,
   "id": "258d4f1c-3dea-48f1-99c0-d4f0a3131e6b",
   "metadata": {},
   "outputs": [
    {
     "name": "stdout",
     "output_type": "stream",
     "text": [
      "{'Student ID': 5002, 'TG': 'G-1', 'School': 'CCDS', 'Name': 'Aarav Singh', 'Gender': True, 'CGPA': 4.02}\n"
     ]
    }
   ],
   "source": [
    "studentData = initStudents()\n",
    "print(studentData[0])\n"
   ]
  },
  {
   "cell_type": "markdown",
   "id": "2b4b9ab2-adca-4282-80d3-b28fa13fb7bc",
   "metadata": {},
   "source": [
    "# Algo for sorting"
   ]
  },
  {
   "cell_type": "code",
   "execution_count": null,
   "id": "1dcda656-0400-49ce-a8d7-7c12e8191cf3",
   "metadata": {},
   "outputs": [],
   "source": []
  },
  {
   "cell_type": "markdown",
   "id": "d72a4d7a-2a77-48dc-b97e-f13cdc6fb2bf",
   "metadata": {},
   "source": [
    "# Getting it back into an excel file and things"
   ]
  },
  {
   "cell_type": "code",
   "execution_count": 40,
   "id": "239672c9-933d-4b99-8d3e-6538fc3d007f",
   "metadata": {},
   "outputs": [
    {
     "name": "stdout",
     "output_type": "stream",
     "text": [
      "['Tutorial Group', 'Student ID', 'School', 'Name', 'Gender', 'CGPA']\n",
      "['G-1', '5002', 'CCDS', 'Aarav Singh', 'Male', '4.02', '', 'AAAAAAAH']\n"
     ]
    }
   ],
   "source": [
    "testfile = open(\"testrecords.csv\", \"w\")\n",
    "fileHeader = fileHeader\n",
    "fileData.insert(0, fileHeader) #puts back header line\n",
    "fileData[1].append('')\n",
    "fileData[1].append('AAAAAAAH')\n",
    "print(fileData[0])\n",
    "print(fileData[1])\n",
    "for i in range(len(fileData)):  #for each list, join items by ','. Then prints each line into new excel sheet\n",
    "    fileData[i] = ','.join(fileData[i])\n",
    "    print(fileData[i], file = testfile, end = '\\n')\n"
   ]
  },
  {
   "cell_type": "markdown",
   "id": "d192e7ce-87e7-4ee8-8723-87dbb37385cb",
   "metadata": {},
   "source": [
    "# Algorithm Evaluation"
   ]
  },
  {
   "cell_type": "markdown",
   "id": "367bb4e3-c8e2-48ab-ab46-8897c6ba43ec",
   "metadata": {},
   "source": [
    "## Basic Factors\n",
    "No majority of students of the same following factors:\n",
    "1. School\n",
    "2. Gender\n",
    "3. Current CGPA\n",
    "\n",
    "General flow:\n",
    "TODO: insert flowchart\n",
    "- For each tutorial group, check for a single factor first, to find the group with the least diversity\n",
    "- Then rank them to see with tutorial group has a group with the least diversity"
   ]
  },
  {
   "cell_type": "markdown",
   "id": "6621cf19-f6f4-455a-8de7-0faab6c23a4f",
   "metadata": {},
   "source": [
    "### Finding the diversity of a single factor of a single group\n",
    "Required data: list of students in the group, required factor of the student\n",
    "<br>\n",
    "Output: The number for diversity\n",
    "<br>\n",
    "Start with finding the number of occurences of each factor"
   ]
  },
  {
   "cell_type": "code",
   "execution_count": 1,
   "id": "264edb32-8df7-4c34-81dc-0825f5f1460a",
   "metadata": {},
   "outputs": [],
   "source": [
    "# Parameters:\n",
    "#  factor: string of factor to check, same as the key in the dictionary\n",
    "#  groupData: data needed as a list of dictionaries\n",
    "# Return:\n",
    "#  occurences: dictionary of {factor1: numOccurences, factor2: numOccurences ... } as string:int\n",
    "def FindOccurencesInGroup(factor, groupData : list) -> dict:\n",
    "    size = len(groupData)\n",
    "    occurences = {} # Dictionary to keep track of occurences of each factor\n",
    "    for i in groupData:\n",
    "        for studentData in i.values():\n",
    "            schoolOfStudent = studentData[factor]\n",
    "            # If factor already exists in occurences, add 1 to it, otherwise create it and set to 1\n",
    "            if schoolOfStudent in occurences.keys():\n",
    "                occurences[schoolOfStudent] += 1\n",
    "            else:\n",
    "                occurences[schoolOfStudent] = 1\n",
    "    return occurences"
   ]
  },
  {
   "cell_type": "code",
   "execution_count": 2,
   "id": "33b1a0a5-dddb-41e1-9686-e60eca5ade96",
   "metadata": {},
   "outputs": [
    {
     "name": "stdout",
     "output_type": "stream",
     "text": [
      "{'SoH': 1, 'CCDS': 2, 'SSS': 1, 'CoB (NBS)': 1}\n",
      "{False: 3, True: 2}\n",
      "{4.19: 1, 4.03: 1, 4.07: 1, 4.06: 1, 4.01: 1}\n"
     ]
    }
   ],
   "source": [
    "testGroupData = [\n",
    "    {71 : {\"TG\" : \"G-1\", \"School\" : \"SoH\", \"Name\" : \"Savannah Taylor\", \"Gender\" : False, \"CGPA\" : 4.19}},\n",
    "    {75 : {\"TG\" : \"G-1\", \"School\" : \"CCDS\", \"Name\" : \"Sakina Ahmed\", \"Gender\" : False, \"CGPA\" : 4.03}},\n",
    "    {162 : {\"TG\" : \"G-1\", \"School\" : \"SSS\", \"Name\" : \"Lila Patel\", \"Gender\" : False, \"CGPA\" : 4.07}},\n",
    "    {235 : {\"TG\" : \"G-1\", \"School\" : \"CCDS\", \"Name\" : \"Ming Zhang\", \"Gender\" : True, \"CGPA\" : 4.06}},\n",
    "    {288 : {\"TG\" : \"G-1\", \"School\" : \"CoB (NBS)\", \"Name\" : \"Ajay Verma\", \"Gender\" : True, \"CGPA\" : 4.01}}\n",
    "]\n",
    "# testGroupData = [\n",
    "#     {\"Student ID\": 71, \"TG\" : \"G-1\", \"School\" : \"SoH\", \"Name\" : \"Savannah Taylor\", \"Gender\" : False, \"CGPA\" : 4.19},\n",
    "#     {\"Student ID\": 75, \"TG\" : \"G-1\", \"School\" : \"CCDS\", \"Name\" : \"Sakina Ahmed\", \"Gender\" : False, \"CGPA\" : 4.03},\n",
    "#     {\"Student ID\": 162, \"TG\" : \"G-1\", \"School\" : \"SSS\", \"Name\" : \"Lila Patel\", \"Gender\" : False, \"CGPA\" : 4.07},\n",
    "#     {\"Student ID\": 235, \"TG\" : \"G-1\", \"School\" : \"CCDS\", \"Name\" : \"Ming Zhang\", \"Gender\" : True, \"CGPA\" : 4.06},\n",
    "#     {\"Student ID\": 288, \"TG\" : \"G-1\", \"School\" : \"CoB (NBS)\", \"Name\" : \"Ajay Verma\", \"Gender\" : True, \"CGPA\" : 4.01}\n",
    "# ]\n",
    "print(FindOccurencesInGroup(\"School\", testGroupData))\n",
    "print(FindOccurencesInGroup(\"Gender\", testGroupData))\n",
    "print(FindOccurencesInGroup(\"CGPA\", testGroupData))"
   ]
  },
  {
   "cell_type": "markdown",
   "id": "39fb02de-4dab-4d11-b30d-62e7abc387ba",
   "metadata": {},
   "source": [
    "#### Then find the most number of occurences out of the total students"
   ]
  },
  {
   "cell_type": "code",
   "execution_count": 3,
   "id": "d0ac0a1d-643a-4317-bf73-0897691b7c0d",
   "metadata": {},
   "outputs": [],
   "source": [
    "# Summary: returns the key and value of the key with the largest value\n",
    "# Parameters:\n",
    "#  dictionary: the dict to find the max of\n",
    "# Return:\n",
    "#  key : list, values : int, where key is the key with highest value\n",
    "def FindMaxInDict(dictionary: dict) -> (list, int):\n",
    "    maxKeys = []\n",
    "    maxVal = 0\n",
    "    for key, value in dictionary.items():\n",
    "        # update maxKeys and maxVal whenever a new value >= current maxVal\n",
    "        if value > maxVal:\n",
    "            maxKeys = [key]\n",
    "            maxVal = value\n",
    "        elif value == maxVal:\n",
    "            maxKeys.append(key)\n",
    "    return maxKeys, maxVal"
   ]
  },
  {
   "cell_type": "code",
   "execution_count": 4,
   "id": "966c82e5-7d2c-4176-9650-e7935949222c",
   "metadata": {},
   "outputs": [
    {
     "name": "stdout",
     "output_type": "stream",
     "text": [
      "(['CCDS'], 2)\n",
      "([False], 3)\n",
      "([4.19, 4.03, 4.07, 4.06, 4.01], 1)\n"
     ]
    }
   ],
   "source": [
    "print(FindMaxInDict(FindOccurencesInGroup(\"School\", testGroupData)))\n",
    "print(FindMaxInDict(FindOccurencesInGroup(\"Gender\", testGroupData)))\n",
    "print(FindMaxInDict(FindOccurencesInGroup(\"CGPA\", testGroupData)))"
   ]
  },
  {
   "cell_type": "markdown",
   "id": "535dea59-6582-4a07-8968-2636101a2978",
   "metadata": {},
   "source": [
    "## CGPA case\n",
    "But this does not work for CGPA, for that we want to find the mean, range, and midrange instead\n",
    "If we use only mean, a majority of high CGPA with a very low CGPA will result in a medium CGPA, this can be solved by looking at midrange, where a high difference between midrange and mean will show that this is happening\n",
    "However, even with these two, a group will all medium CGPAs will also result in medium mean, and low midrange difference, therefore we add range to determine that this is happening if the range is small.\n",
    "In conclusion, the result we are looking for is one with an medium mean, high range, and low difference between midrange and mean.\n",
    "### Finding mean, midrange, and range"
   ]
  },
  {
   "cell_type": "code",
   "execution_count": 5,
   "id": "119b3209-161a-497e-9ecb-df7deee7219a",
   "metadata": {},
   "outputs": [],
   "source": [
    "def Mean(*nums) -> float:\n",
    "    if len(nums) == 1 and type(nums[0]) is list:\n",
    "        nums = nums[0]\n",
    "    return sum(nums) / len(nums)\n",
    "\n",
    "def Range(*nums) -> float:\n",
    "    if len(nums) == 1 and type(nums[0]) is list:\n",
    "        nums = nums[0]\n",
    "    return max(nums) - min(nums)\n",
    "\n",
    "def Midrange(*nums) -> float:\n",
    "    if len(nums) == 1 and type(nums[0]) is list:\n",
    "        nums = nums[0]\n",
    "    return (max(nums) + min(nums)) / 2"
   ]
  },
  {
   "cell_type": "code",
   "execution_count": 6,
   "id": "cd31556f-4d90-45f6-93bb-25f139204b50",
   "metadata": {},
   "outputs": [
    {
     "name": "stdout",
     "output_type": "stream",
     "text": [
      "4.072\n",
      "0.1800000000000006\n",
      "4.1\n"
     ]
    }
   ],
   "source": [
    "testList = [4.19, 4.03, 4.07, 4.06, 4.01]\n",
    "print(Mean(testList))\n",
    "print(Range(testList))\n",
    "print(Midrange(testList))"
   ]
  },
  {
   "cell_type": "markdown",
   "id": "16225eae-6d74-4f94-b072-0f2063ba8f3d",
   "metadata": {},
   "source": [
    "## Calculating the factors for each group"
   ]
  },
  {
   "cell_type": "code",
   "execution_count": null,
   "id": "18c50b8d-5b40-41d1-8bdd-af37602bd8a6",
   "metadata": {},
   "outputs": [],
   "source": [
    "# Parameters:\n",
    "#  factors: list of strings of factor to check, same as the key in the dictionary\n",
    "#  groupDatas: List of datas needed as a list of dictionaries\n",
    "# Return:\n",
    "#  leastDiverse: dictionary of {factor1: numOccurences, factor2: numOccurences ... } as string:int\n",
    "def FindLeastDiverseInTutorialGroup(factors, groupDatas) -> dict:\n",
    "    leastDiverse = {}\n",
    "    "
   ]
  },
  {
   "cell_type": "code",
   "execution_count": null,
   "id": "c70dc59b-07a3-4314-870f-8bae9b64a2af",
   "metadata": {},
   "outputs": [],
   "source": [
    "# Weights\n",
    "CRITERA_WEIGHTS = {\"CGPA\": 100, \"SCHOOL\": 100, \"GENDER\": 100}"
   ]
  },
  {
   "cell_type": "markdown",
   "id": "72e04807-b86c-45f3-9fd8-df44698e9b88",
   "metadata": {},
   "source": [
    "# Graphical plots and things"
   ]
  },
  {
   "cell_type": "code",
   "execution_count": null,
   "id": "f6eb9efe-9847-49fc-8aff-9764d084d1b9",
   "metadata": {},
   "outputs": [],
   "source": []
  },
  {
   "cell_type": "markdown",
   "id": "3fbf2a01-942a-4e21-ac2f-d10787a27347",
   "metadata": {},
   "source": [
    "# Challenges and Issues"
   ]
  },
  {
   "cell_type": "markdown",
   "id": "683b2fee-bc9c-416a-8148-c5ee91547f34",
   "metadata": {},
   "source": [
    "# Conclusion"
   ]
  },
  {
   "cell_type": "markdown",
   "id": "d30017e2-afbf-4192-ba46-6d54bfe0e7ac",
   "metadata": {},
   "source": [
    "# Debug test things or test cases?\n",
    "doubt they will give marks for test cases tho, prob just leave this for our own use and remove before submission\n",
    "Highlight"
   ]
  },
  {
   "cell_type": "code",
   "execution_count": null,
   "id": "ab46be42-393c-489d-b43e-2e377837f457",
   "metadata": {},
   "outputs": [],
   "source": []
  },
  {
   "cell_type": "code",
   "execution_count": null,
   "id": "635fb41c-2dd2-4924-a50e-7c94dfed7fa4",
   "metadata": {},
   "outputs": [],
   "source": []
  }
 ],
 "metadata": {
  "kernelspec": {
   "display_name": "Python 3 (ipykernel)",
   "language": "python",
   "name": "python3"
  },
  "language_info": {
   "codemirror_mode": {
    "name": "ipython",
    "version": 3
   },
   "file_extension": ".py",
   "mimetype": "text/x-python",
   "name": "python",
   "nbconvert_exporter": "python",
   "pygments_lexer": "ipython3",
   "version": "3.10.6"
  }
 },
 "nbformat": 4,
 "nbformat_minor": 5
}
