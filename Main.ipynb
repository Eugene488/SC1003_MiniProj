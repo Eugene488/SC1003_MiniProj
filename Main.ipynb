{
 "cells": [
  {
   "cell_type": "markdown",
   "id": "830b69ce-1ac2-4210-a5b0-0aad1d737950",
   "metadata": {},
   "source": [
    "Excel things"
   ]
  },
  {
   "cell_type": "code",
   "execution_count": null,
   "id": "9f6afe4f-e289-4867-9fcc-03e5773eece8",
   "metadata": {},
   "outputs": [],
   "source": []
  },
  {
   "cell_type": "code",
   "execution_count": null,
   "id": "35a2ba2e-f8a2-4729-9604-6b3a414d4c03",
   "metadata": {},
   "outputs": [],
   "source": []
  },
  {
   "cell_type": "markdown",
   "id": "2b4b9ab2-adca-4282-80d3-b28fa13fb7bc",
   "metadata": {},
   "source": [
    "Algo for sorting"
   ]
  },
  {
   "cell_type": "code",
   "execution_count": null,
   "id": "1dcda656-0400-49ce-a8d7-7c12e8191cf3",
   "metadata": {},
   "outputs": [],
   "source": []
  },
  {
   "cell_type": "markdown",
   "id": "d192e7ce-87e7-4ee8-8723-87dbb37385cb",
   "metadata": {},
   "source": [
    "Diveristy score things"
   ]
  },
  {
   "cell_type": "code",
   "execution_count": null,
   "id": "c70dc59b-07a3-4314-870f-8bae9b64a2af",
   "metadata": {},
   "outputs": [],
   "source": []
  },
  {
   "cell_type": "markdown",
   "id": "d72a4d7a-2a77-48dc-b97e-f13cdc6fb2bf",
   "metadata": {},
   "source": [
    "Getting it back into an excel file and things"
   ]
  },
  {
   "cell_type": "code",
   "execution_count": null,
   "id": "23d756f7-8f7b-474e-a291-5b574aee7b25",
   "metadata": {},
   "outputs": [],
   "source": []
  },
  {
   "cell_type": "markdown",
   "id": "72e04807-b86c-45f3-9fd8-df44698e9b88",
   "metadata": {},
   "source": [
    "Graphical plots and things"
   ]
  },
  {
   "cell_type": "code",
   "execution_count": null,
   "id": "f6eb9efe-9847-49fc-8aff-9764d084d1b9",
   "metadata": {},
   "outputs": [],
   "source": []
  },
  {
   "cell_type": "markdown",
   "id": "d30017e2-afbf-4192-ba46-6d54bfe0e7ac",
   "metadata": {},
   "source": [
    "Debug test things"
   ]
  },
  {
   "cell_type": "code",
   "execution_count": null,
   "id": "d3f5d9bd-74ea-4289-b7b1-18330f276d50",
   "metadata": {},
   "outputs": [],
   "source": []
  }
 ],
 "metadata": {
  "kernelspec": {
   "display_name": "Python 3 (ipykernel)",
   "language": "python",
   "name": "python3"
  },
  "language_info": {
   "codemirror_mode": {
    "name": "ipython",
    "version": 3
   },
   "file_extension": ".py",
   "mimetype": "text/x-python",
   "name": "python",
   "nbconvert_exporter": "python",
   "pygments_lexer": "ipython3",
   "version": "3.13.6"
  }
 },
 "nbformat": 4,
 "nbformat_minor": 5
}
