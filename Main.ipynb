{
 "cells": [
  {
   "cell_type": "markdown",
   "id": "7f8292ed-0900-433c-9747-8599656be677",
   "metadata": {},
   "source": [
    "# Introduction\n",
    "Group members(& emails?):"
   ]
  },
  {
   "cell_type": "markdown",
   "id": "52b8612e-0ec5-440a-8f73-8c127bbf5047",
   "metadata": {},
   "source": [
    "# Table of contents\n",
    "TODO: titles with internal links to move there"
   ]
  },
  {
   "cell_type": "markdown",
   "id": "1ce1ec75-e2aa-4007-b69b-5bc2b7ad66bb",
   "metadata": {},
   "source": [
    "# Decomposition and breakdown\n",
    "\n",
    "blah blah"
   ]
  },
  {
   "cell_type": "markdown",
   "id": "5789d277-6b7e-4b5a-9c25-243b8c87dc45",
   "metadata": {},
   "source": [
    "# Analysis of data given (records.csv)"
   ]
  },
  {
   "cell_type": "markdown",
   "id": "b0d03c7a-c0a1-4904-b478-2c476d5fac6d",
   "metadata": {},
   "source": [
    "# Planning and design of algorithm\n",
    "insert diagram drawn by Cherry here"
   ]
  },
  {
   "cell_type": "markdown",
   "id": "78b063c2-5286-415b-ae07-ff2a79b1c407",
   "metadata": {},
   "source": [
    "## Flowchart and pseudocode\n",
    "\n",
    "lorem ipsum"
   ]
  },
  {
   "cell_type": "markdown",
   "id": "830b69ce-1ac2-4210-a5b0-0aad1d737950",
   "metadata": {},
   "source": [
    "# Excel things"
   ]
  },
  {
   "cell_type": "code",
   "execution_count": 55,
   "id": "65866e7d-e55b-4886-832e-1500568af55b",
   "metadata": {},
   "outputs": [
    {
     "data": {
      "text/plain": [
       "'\\nfile = original excel file\\nrawFileData = giant list where each item is a row converted into a single string\\nfileHeader = first row \"Tutorial Group,Student ID,School,Name,Gender,CGPA\"\\nfileData = each row in the file turned into a list of cells as strings\\nstudentData = list of dictionaries, each representing a student\\'s data (\\'student ID\\', \\'TG\\', \\'School\\', \\'Name\\', \\'Gender\\', \\'CGPA\\')\\n'"
      ]
     },
     "execution_count": 55,
     "metadata": {},
     "output_type": "execute_result"
    }
   ],
   "source": [
    "'''\n",
    "file = original excel file\n",
    "rawFileData = giant list where each item is a row converted into a single string\n",
    "fileHeader = first row \"Tutorial Group,Student ID,School,Name,Gender,CGPA\"\n",
    "fileData = each row in the file turned into a list of cells as strings\n",
    "studentData = list of dictionaries, each representing a student's data ('student ID', 'TG', 'School', 'Name', 'Gender', 'CGPA')\n",
    "'''"
   ]
  },
  {
   "cell_type": "code",
   "execution_count": 56,
   "id": "9f6afe4f-e289-4867-9fcc-03e5773eece8",
   "metadata": {},
   "outputs": [
    {
     "name": "stdout",
     "output_type": "stream",
     "text": [
      "['G-1', '5002', 'CCDS', 'Aarav Singh', 'Male', '4.02']\n"
     ]
    }
   ],
   "source": [
    "file = open(\"records.csv\", \"r\")\n",
    "rawFileData = file.readlines()\n",
    "fileData = []\n",
    "for i in rawFileData:\n",
    "    i = i.split(\",\")\n",
    "    i[5] = i[5].replace('\\n', '')\n",
    "    fileData.append(i)\n",
    "fileHeader = fileData.pop(0) #list of cells from first line\n",
    "\n",
    "print(fileData[0])"
   ]
  },
  {
   "cell_type": "code",
   "execution_count": 57,
   "id": "35a2ba2e-f8a2-4729-9604-6b3a414d4c03",
   "metadata": {},
   "outputs": [],
   "source": [
    "#global variables\n",
    "groupSize = 5"
   ]
  },
  {
   "cell_type": "code",
   "execution_count": 58,
   "id": "2da36bad-c475-4c8d-8762-903eb992df7f",
   "metadata": {},
   "outputs": [],
   "source": [
    "def initStudents():      #creates studentData, a list of dictionaries, each representing a student\n",
    "    studentData = []\n",
    "    studentCount = 0\n",
    "    for row in fileData:\n",
    "        studentCount += 1\n",
    "        if row[4] == 'Male':\n",
    "            gender = True\n",
    "        elif row[4] == 'Female':\n",
    "            gender = False\n",
    "        studentData.append({'ID': int(row[1]),'TG': int(row[0][2:]), 'School': row[2], 'Name': row[3], 'Gender': gender, 'CGPA': float(row[5])})\n",
    "    return studentData"
   ]
  },
  {
   "cell_type": "code",
   "execution_count": 59,
   "id": "258d4f1c-3dea-48f1-99c0-d4f0a3131e6b",
   "metadata": {},
   "outputs": [
    {
     "name": "stdout",
     "output_type": "stream",
     "text": [
      "{'ID': 5002, 'TG': 1, 'School': 'CCDS', 'Name': 'Aarav Singh', 'Gender': True, 'CGPA': 4.02}\n",
      "6000\n"
     ]
    }
   ],
   "source": [
    "studentData = initStudents()\n",
    "print(studentData[0])\n",
    "print(len(studentData))"
   ]
  },
  {
   "cell_type": "markdown",
   "id": "2b4b9ab2-adca-4282-80d3-b28fa13fb7bc",
   "metadata": {},
   "source": [
    "# Prep for Sorting"
   ]
  },
  {
   "cell_type": "code",
   "execution_count": 60,
   "id": "d85023c8-c39d-4c65-898c-77a99dcba66c",
   "metadata": {},
   "outputs": [],
   "source": [
    "# Apply function separately to individual tutorial groups\n",
    "def sortingPrep (studentData):\n",
    "    # Sort list in descending order of CGPA\n",
    "    studentData.sort(key=lambda x: x['CGPA'], reverse=True)\n",
    "\n",
    "    # Split list into buckets\n",
    "    partition = [studentData[i:i + groupSize] for i in range(0, len(studentData), groupSize)]\n",
    "\n",
    "    # for index, bucket in enumerate(partition, start=1):\n",
    "    #     print(f\"\\nBucket {index} ({len(bucket)}):\")\n",
    "    #     for s in bucket:\n",
    "    #         print(f\"  {s['Name']}, {s['CGPA']}, TG{s['TG']}\")\n",
    "\n",
    "    return partition"
   ]
  },
  {
   "cell_type": "code",
   "execution_count": 61,
   "id": "f60df22a-2aeb-4084-a6fb-0f46a5fda946",
   "metadata": {
    "scrolled": true
   },
   "outputs": [],
   "source": [
    "def distribute(studentData, n = groupSize):\n",
    "\n",
    "    buckets = sortingPrep(studentData)\n",
    "\n",
    "    total = len(studentData)\n",
    "    numGrp = total // n\n",
    "    r = total % n\n",
    "    grpSizes = [n + 1 if i < r else n for i in range(numGrp)]\n",
    "    grps = [[] for _ in range(numGrp)]\n",
    "\n",
    "    # Calculate school & gender ratio\n",
    "    schoolCnt = {}\n",
    "    for s in studentData:\n",
    "        school = s['School']\n",
    "        schoolCnt[school] = schoolCnt.get(school, 0) + 1\n",
    "    sortedSchools = sorted(schoolCnt.keys(), key=lambda x: schoolCnt[x], reverse=True)\n",
    "\n",
    "    totalMale = sum(1 for s in studentData if s['Gender'])\n",
    "    # mRatio = totalMale / total\n",
    "    mMin = totalMale // numGrp\n",
    "    mRemainder = totalMale % numGrp\n",
    "    idealMale = [mMin + (1 if i < mRemainder else 0) for i in range(len(grpSizes))]\n",
    "\n",
    "    totalFemale = len(studentData) - totalMale\n",
    "    fMin = totalFemale // numGrp\n",
    "    fRemainder = totalFemale % numGrp\n",
    "    idealFemale = [fMin + (1 if i < fRemainder else 0) for i in range(len(grpSizes))]\n",
    "    #     idealMale = [math.ceil(mRatio * size) for size in grpSizes]\n",
    "    #     idealFemale = [size - idealMale[i] for i, size in enumerate(grpSizes)]\n",
    "    currMale = [0] * numGrp\n",
    "    currFemale = [0] * numGrp\n",
    "\n",
    "    sortedStudents = sorted(\n",
    "        studentData,\n",
    "        key=lambda s: (sortedSchools.index(s['School']), -s['CGPA'])\n",
    "    )\n",
    "\n",
    "    # Distribution\n",
    "    grpIndex = 0\n",
    "    for student in sortedStudents:\n",
    "        # try to find a group that still needs this gender\n",
    "        for offset in range(numGrp):\n",
    "            g = (grpIndex + offset) % numGrp\n",
    "            if len(grps[g]) < grpSizes[g]:\n",
    "                if student['Gender'] and currMale[g] < idealMale[g]:\n",
    "                    grps[g].append(student)\n",
    "                    currMale[g] += 1\n",
    "                    # print(f\"append {student} to grp {g}\")\n",
    "                    break\n",
    "                elif not student['Gender'] and currFemale[g] < idealFemale[g]:\n",
    "                    grps[g].append(student)\n",
    "                    currFemale[g] += 1\n",
    "                    # print(f\"append {student} to grp {g}\")\n",
    "                    break\n",
    "        else:\n",
    "            # if all gender quotas full, put in group with least size\n",
    "            g = min(range(numGrp), key=lambda x: len(grps[x]))\n",
    "            grps[g].append(student)\n",
    "            if student['Gender']:\n",
    "                currMale[g] += 1\n",
    "            else:\n",
    "                currFemale[g] += 1\n",
    "            # print(f\"append {student} to grp {g} (backup)\")\n",
    "\n",
    "        grpIndex += 1\n",
    "\n",
    "    return grps"
   ]
  },
  {
   "cell_type": "code",
   "execution_count": 62,
   "id": "39ef2bf3-0c76-443a-8194-b779815ae4e2",
   "metadata": {
    "scrolled": true
   },
   "outputs": [
    {
     "data": {
      "text/plain": [
       "'\\nn = 7\\n\\n# Apply to each TG \\nall_tgs = sorted(set(s[\\'TG\\'] for s in studentData))\\nfor tg in all_tgs:\\n    tgStuds = [s for s in studentData if s[\\'TG\\'] == tg]\\n    totalStuds = len(tgStuds)\\n\\n    # Get TG gender ratio\\n    mCount_tg = sum(1 for s in tgStuds if s[\\'Gender\\'])\\n    fCount_tg = totalStuds - mCount_tg\\n    mRatio_tg = mCount_tg / totalStuds if totalStuds else 0\\n    fRatio_tg = 1 - mRatio_tg\\n\\n    print(f\"\\nTutorial Group {tg}\")\\n    print(f\"Total students: {totalStuds}\")\\n    print(f\"Gender ratio: {mCount_tg}M / {fCount_tg}F \"\\n          f\"({mRatio_tg:.2%} male, {fRatio_tg:.2%} female)\")\\n\\n    # Get TG school ratio\\n    schoolDistTG = {}\\n    for s in tgStuds:\\n        schoolDistTG[s[\\'School\\']] = schoolDistTG.get(s[\\'School\\'], 0) + 1\\n    sortedSchoolsTG = sorted(schoolDistTG.keys(), key=lambda x: schoolDistTG[x], reverse=True)\\n    schoolSummary = \", \".join(f\"{sch}: {schoolDistTG[sch]}\" for sch in sortedSchoolsTG)\\n    print(f\"School distribution: {schoolSummary}\")\\n\\n    # Distribute\\n    finalGrps = distribute(tgStuds, n)\\n\\n    # Print results per grp\\n    totalInGrps = 0\\n    for i, g in enumerate(finalGrps, start=1):\\n        mCount = sum(1 for s in g if s[\\'Gender\\'])\\n        fCount = len(g) - mCount\\n        totalInGrps += len(g)\\n        print(f\"\\nGroup {i} (size {len(g)}): Males: {mCount}, Females: {fCount}\")\\n        for s in g:\\n            print(f\"  - {s[\\'Name\\']} ({s[\\'School\\']}, {\\'M\\' if s[\\'Gender\\'] else \\'F\\'}, CGPA: {s[\\'CGPA\\']})\")\\n\\n    print(f\"\\nTotal assigned in TG{tg}: {totalInGrps} / {totalStuds}\")\\n'"
      ]
     },
     "execution_count": 62,
     "metadata": {},
     "output_type": "execute_result"
    }
   ],
   "source": [
    "'''\n",
    "n = 7\n",
    "\n",
    "# Apply to each TG \n",
    "all_tgs = sorted(set(s['TG'] for s in studentData))\n",
    "for tg in all_tgs:\n",
    "    tgStuds = [s for s in studentData if s['TG'] == tg]\n",
    "    totalStuds = len(tgStuds)\n",
    "\n",
    "    # Get TG gender ratio\n",
    "    mCount_tg = sum(1 for s in tgStuds if s['Gender'])\n",
    "    fCount_tg = totalStuds - mCount_tg\n",
    "    mRatio_tg = mCount_tg / totalStuds if totalStuds else 0\n",
    "    fRatio_tg = 1 - mRatio_tg\n",
    "\n",
    "    print(f\"\\nTutorial Group {tg}\")\n",
    "    print(f\"Total students: {totalStuds}\")\n",
    "    print(f\"Gender ratio: {mCount_tg}M / {fCount_tg}F \"\n",
    "          f\"({mRatio_tg:.2%} male, {fRatio_tg:.2%} female)\")\n",
    "\n",
    "    # Get TG school ratio\n",
    "    schoolDistTG = {}\n",
    "    for s in tgStuds:\n",
    "        schoolDistTG[s['School']] = schoolDistTG.get(s['School'], 0) + 1\n",
    "    sortedSchoolsTG = sorted(schoolDistTG.keys(), key=lambda x: schoolDistTG[x], reverse=True)\n",
    "    schoolSummary = \", \".join(f\"{sch}: {schoolDistTG[sch]}\" for sch in sortedSchoolsTG)\n",
    "    print(f\"School distribution: {schoolSummary}\")\n",
    "\n",
    "    # Distribute\n",
    "    finalGrps = distribute(tgStuds, n)\n",
    "\n",
    "    # Print results per grp\n",
    "    totalInGrps = 0\n",
    "    for i, g in enumerate(finalGrps, start=1):\n",
    "        mCount = sum(1 for s in g if s['Gender'])\n",
    "        fCount = len(g) - mCount\n",
    "        totalInGrps += len(g)\n",
    "        print(f\"\\nGroup {i} (size {len(g)}): Males: {mCount}, Females: {fCount}\")\n",
    "        for s in g:\n",
    "            print(f\"  - {s['Name']} ({s['School']}, {'M' if s['Gender'] else 'F'}, CGPA: {s['CGPA']})\")\n",
    "\n",
    "    print(f\"\\nTotal assigned in TG{tg}: {totalInGrps} / {totalStuds}\")\n",
    "'''"
   ]
  },
  {
   "cell_type": "markdown",
   "id": "d72a4d7a-2a77-48dc-b97e-f13cdc6fb2bf",
   "metadata": {},
   "source": [
    "# Getting it back into an excel file and things"
   ]
  },
  {
   "cell_type": "code",
   "execution_count": 63,
   "id": "4dca6cd4-afee-4ca1-9b2c-fb5dba43887f",
   "metadata": {},
   "outputs": [],
   "source": [
    "all_tgs = sorted(set(s['TG'] for s in studentData)) #sorts data by tutorial group\n",
    "finalData = []\n",
    "for tg in all_tgs:\n",
    "    tgStuds = [s for s in studentData if s['TG'] == tg] #groups each tutorial group into a list\n",
    "    finalGrps = distribute(tgStuds)\n",
    "    finalData.append(finalGrps) #resulting finalData is a list of lists(tutorial groups)\n",
    "                                #each tutorial group is a list of groups\n",
    "                                #each group is a list of students (length of list is groupSize)\n"
   ]
  },
  {
   "cell_type": "code",
   "execution_count": 64,
   "id": "b4b2c851-fcd9-47ec-9df3-e42bc1d1be3d",
   "metadata": {},
   "outputs": [
    {
     "name": "stdout",
     "output_type": "stream",
     "text": [
      "['Tutorial Group', 'Student ID', 'School', 'Name', 'Gender', 'CGPA']\n"
     ]
    }
   ],
   "source": [
    "print(fileHeader)"
   ]
  },
  {
   "cell_type": "code",
   "execution_count": 65,
   "id": "239672c9-933d-4b99-8d3e-6538fc3d007f",
   "metadata": {},
   "outputs": [],
   "source": [
    "def writeLine(line): #shortened function that adds a string to csv\n",
    "    print(line, file = processedFile) \n",
    "processedFile = open(\"processed records.csv\", \"w\")\n",
    "fileHeader.append(\"Group Number\") #adds a column to header line\n",
    "writeLine(','.join(fileHeader))   #combines file header list into a string where each column is separated by a \",\"\n",
    "\n",
    "for tutGrp in finalData:\n",
    "    for grpNum, group in enumerate(tutGrp, start=1):\n",
    "        for student in group: #for each iteration adds a student's data to csv\n",
    "            row = f\"G-{student['TG']},{student['ID']},{student['School']},{student['Name']},{'Male' if student['Gender'] else 'Female'},{student['CGPA']},{grpNum}\"\n",
    "            writeLine(row)\n",
    "processedFile.close()"
   ]
  },
  {
   "cell_type": "markdown",
   "id": "d192e7ce-87e7-4ee8-8723-87dbb37385cb",
   "metadata": {},
   "source": [
    "# Algorithm Evaluation"
   ]
  },
  {
   "cell_type": "markdown",
   "id": "367bb4e3-c8e2-48ab-ab46-8897c6ba43ec",
   "metadata": {},
   "source": [
    "## Basic Factors\n",
    "No majority of students of the same following factors:\n",
    "1. School\n",
    "2. Gender\n",
    "3. Current CGPA\n",
    "\n",
    "General flow:\n",
    "TODO: insert flowchart\n",
    "- For each tutorial group, check for a single factor first, to find the group with the least diversity\n",
    "- Then rank them to see with tutorial group has a group with the least diversity"
   ]
  },
  {
   "cell_type": "markdown",
   "id": "6621cf19-f6f4-455a-8de7-0faab6c23a4f",
   "metadata": {},
   "source": [
    "### Finding the diversity of a single factor of a single group\n",
    "Required data: list of students in the group, required factor of the student\n",
    "<br>\n",
    "Output: The number for diversity\n",
    "<br>\n",
    "Start with finding the number of occurences of each factor"
   ]
  },
  {
   "cell_type": "code",
   "execution_count": 12,
   "id": "264edb32-8df7-4c34-81dc-0825f5f1460a",
   "metadata": {},
   "outputs": [],
   "source": [
    "# Parameters:\n",
    "#  factor: string of factor to check, same as the key in the dictionary\n",
    "#  groupData: data needed as a list of dictionaries\n",
    "# Return:\n",
    "#  occurences: dictionary of {factor1: numOccurences, factor2: numOccurences ... } as string:int\n",
    "def FindOccurencesInGroup(factor, groupData : list) -> dict:\n",
    "    size = len(groupData)\n",
    "    occurences = {} # Dictionary to keep track of occurences of each factor\n",
    "    for i in groupData:\n",
    "        factorOfStudent = i[factor]\n",
    "        # If factor already exists in occurences, add 1 to it, otherwise create it and set to 1\n",
    "        if factorOfStudent in occurences.keys():\n",
    "            occurences[factorOfStudent] += 1\n",
    "        else:\n",
    "            occurences[factorOfStudent] = 1\n",
    "    return occurences"
   ]
  },
  {
   "cell_type": "code",
   "execution_count": 13,
   "id": "33b1a0a5-dddb-41e1-9686-e60eca5ade96",
   "metadata": {},
   "outputs": [
    {
     "name": "stdout",
     "output_type": "stream",
     "text": [
      "{'SoH': 1, 'CCDS': 2, 'SSS': 1, 'CoB (NBS)': 1}\n",
      "{False: 3, True: 2}\n",
      "{4.19: 1, 4.03: 1, 4.07: 1, 4.06: 1, 4.01: 1}\n"
     ]
    }
   ],
   "source": [
    "testGroupData = [\n",
    "    {\"Student ID\": 71, \"TG\" : \"G-1\", \"School\" : \"SoH\", \"Name\" : \"Savannah Taylor\", \"Gender\" : False, \"CGPA\" : 4.19},\n",
    "    {\"Student ID\": 75, \"TG\" : \"G-1\", \"School\" : \"CCDS\", \"Name\" : \"Sakina Ahmed\", \"Gender\" : False, \"CGPA\" : 4.03},\n",
    "    {\"Student ID\": 162, \"TG\" : \"G-1\", \"School\" : \"SSS\", \"Name\" : \"Lila Patel\", \"Gender\" : False, \"CGPA\" : 4.07},\n",
    "    {\"Student ID\": 235, \"TG\" : \"G-1\", \"School\" : \"CCDS\", \"Name\" : \"Ming Zhang\", \"Gender\" : True, \"CGPA\" : 4.06},\n",
    "    {\"Student ID\": 288, \"TG\" : \"G-1\", \"School\" : \"CoB (NBS)\", \"Name\" : \"Ajay Verma\", \"Gender\" : True, \"CGPA\" : 4.01}\n",
    "]\n",
    "print(FindOccurencesInGroup(\"School\", testGroupData))\n",
    "print(FindOccurencesInGroup(\"Gender\", testGroupData))\n",
    "print(FindOccurencesInGroup(\"CGPA\", testGroupData))"
   ]
  },
  {
   "cell_type": "markdown",
   "id": "39fb02de-4dab-4d11-b30d-62e7abc387ba",
   "metadata": {},
   "source": [
    "#### Then find the most number of occurences out of the total students"
   ]
  },
  {
   "cell_type": "code",
   "execution_count": 14,
   "id": "d0ac0a1d-643a-4317-bf73-0897691b7c0d",
   "metadata": {},
   "outputs": [],
   "source": [
    "# Summary: returns the key and value of the key with the largest value\n",
    "# Parameters:\n",
    "#  dictionary: the dict to find the max of\n",
    "# Return:\n",
    "#  key : list, values : int, where key is the key with highest value\n",
    "def FindMaxInDict(dictionary: dict) -> (list, int):\n",
    "    maxKeys = []\n",
    "    maxVal = 0\n",
    "    for key, value in dictionary.items():\n",
    "        # update maxKeys and maxVal whenever a new value >= current maxVal\n",
    "        if value > maxVal:\n",
    "            maxKeys = [key]\n",
    "            maxVal = value\n",
    "        elif value == maxVal:\n",
    "            maxKeys.append(key)\n",
    "    return maxKeys, maxVal"
   ]
  },
  {
   "cell_type": "code",
   "execution_count": 15,
   "id": "966c82e5-7d2c-4176-9650-e7935949222c",
   "metadata": {},
   "outputs": [
    {
     "name": "stdout",
     "output_type": "stream",
     "text": [
      "(['CCDS'], 2)\n",
      "([False], 3)\n",
      "([4.19, 4.03, 4.07, 4.06, 4.01], 1)\n"
     ]
    }
   ],
   "source": [
    "print(FindMaxInDict(FindOccurencesInGroup(\"School\", testGroupData)))\n",
    "print(FindMaxInDict(FindOccurencesInGroup(\"Gender\", testGroupData)))\n",
    "print(FindMaxInDict(FindOccurencesInGroup(\"CGPA\", testGroupData)))"
   ]
  },
  {
   "cell_type": "markdown",
   "id": "535dea59-6582-4a07-8968-2636101a2978",
   "metadata": {},
   "source": [
    "## CGPA case\n",
    "But this does not work for CGPA, for that we want to find the mean, range, and midrange instead\n",
    "If we use only mean, a majority of high CGPA with a very low CGPA will result in a medium CGPA, this can be solved by looking at midrange, where a high difference between midrange and mean will show that this is happening\n",
    "However, even with these two, a group will all medium CGPAs will also result in medium mean, and low midrange difference, therefore we add range to determine that this is happening if the range is small.\n",
    "In conclusion, the result we are looking for is one with an medium mean, high range, and low difference between midrange and mean.\n",
    "### Finding mean, midrange, and range"
   ]
  },
  {
   "cell_type": "code",
   "execution_count": 56,
   "id": "119b3209-161a-497e-9ecb-df7deee7219a",
   "metadata": {},
   "outputs": [],
   "source": [
    "def Mean(*nums) -> float:\n",
    "    if len(nums) == 1 and type(nums[0]) is list:\n",
    "        nums = nums[0]\n",
    "    return sum(nums) / len(nums)\n",
    "\n",
    "def Range(*nums) -> float:\n",
    "    if len(nums) == 1 and type(nums[0]) is list:\n",
    "        nums = nums[0]\n",
    "    return max(nums) - min(nums)\n",
    "\n",
    "def Midrange(*nums) -> float:\n",
    "    if len(nums) == 1 and type(nums[0]) is list:\n",
    "        nums = nums[0]\n",
    "    return (max(nums) + min(nums)) / 2\n",
    "\n",
    "def Median(*nums) -> float:\n",
    "    if len(nums) == 1 and type(nums[0]) is list:\n",
    "        nums = nums[0]\n",
    "    # TODO: replace with another self-made sort cherry pls\n",
    "    nums.sort()\n",
    "    total = len(nums)\n",
    "    mid = total // 2\n",
    "    if total % 2:\n",
    "        return (nums[mid] + nums[mid+1]) / 2\n",
    "    return nums[mid]"
   ]
  },
  {
   "cell_type": "code",
   "execution_count": 57,
   "id": "cd31556f-4d90-45f6-93bb-25f139204b50",
   "metadata": {},
   "outputs": [
    {
     "name": "stdout",
     "output_type": "stream",
     "text": [
      "4.072\n",
      "0.1800000000000006\n",
      "4.1\n",
      "4.0649999999999995\n"
     ]
    }
   ],
   "source": [
    "testList = [4.19, 4.03, 4.07, 4.06, 4.01]\n",
    "print(Mean(testList))\n",
    "print(Range(testList))\n",
    "print(Midrange(testList))\n",
    "print(Median(testList))"
   ]
  },
  {
   "cell_type": "markdown",
   "id": "dfa32932-d97a-4eb3-ad07-1e02c9d3092c",
   "metadata": {},
   "source": [
    "## Calculating for CGPA"
   ]
  },
  {
   "cell_type": "code",
   "execution_count": 121,
   "id": "f3ee851b-d9bc-485c-82a7-09899898dc3a",
   "metadata": {},
   "outputs": [],
   "source": [
    "# Parameters:\n",
    "#  medianCGPA: median CGPA to use for calculation (likely the tutorial grp's)\n",
    "#  CGPARange: Range of CGPA to use for calculation (likely the tutorial grp's)\n",
    "#  groupData: list of studentData to find CGPA diversity\n",
    "# Return:\n",
    "#  score: overall score of CGPA\n",
    "#  cGPADetails: dictionary of {factor: percent} the factor \"balance\" students with higher CGPA - students with lower CGPA than median\n",
    "def CalculateCGPADiversity(medianCGPA : float, CGPARange : float, *groupData) -> (int, dict):\n",
    "    if len(groupData) == 1 and type(groupData[0]) is list:\n",
    "        groupData = groupData[0]\n",
    "\n",
    "    cGPADetails = {}\n",
    "    # Calculate higher and lowers\n",
    "    lower = higher = 0\n",
    "    cGPAs = ExtractCGPA(groupData)\n",
    "    for gpa in cGPAs:\n",
    "        if gpa < medianCGPA:\n",
    "            lower += 1\n",
    "        elif gpa > medianCGPA:\n",
    "            higher += 1\n",
    "    cGPADetails[\"balance\"] = higher - lower\n",
    "\n",
    "    # Calculate the score for each factor\n",
    "    cGPADetails[\"mean\"] = Mean(cGPAs)\n",
    "    cGPADetails[\"range\"] = Range(cGPAs)\n",
    "    cGPADetails[\"midrange\"] = Midrange(cGPAs)\n",
    "\n",
    "    # Score 0 to 100, 100 is most diverse possible\n",
    "    # Usage of 5 as is prevalent as it is the max CGPA and max difference between lowest and highest CGPA\n",
    "    \n",
    "    # vv How close mean is to the median vv\n",
    "    cGPADetails[\"meanScore\"] = (5 - abs(cGPADetails[\"mean\"] - medianCGPA)) * 20\n",
    "    # vv Ratio of grp's range and tutorial grp's range vv\n",
    "    cGPADetails[\"rangeScore\"] = cGPADetails[\"range\"] / CGPARange * 100\n",
    "    # vv How far midrange is from mean vv   most diverse ==> mean of x, midrange of x\n",
    "    cGPADetails[\"midrangeScore\"] = (1 - abs(cGPADetails[\"mean\"] - cGPADetails[\"midrange\"])) * 100\n",
    "    # vv Lowest: score = 0 when abs(balance) = Num of grp members, Highest: score = 100 when balance = 0 vv \n",
    "    cGPADetails[\"balanceScore\"] = (len(groupData) - abs(cGPADetails[\"balance\"])) / len(groupData) * 100\n",
    "    \n",
    "    # Overall score out of 100\n",
    "    # Weightages for what we consider more important\n",
    "    W_RANGE = 1\n",
    "    W_MIDRANGE = 1\n",
    "    W_MEAN = 2\n",
    "    W_BALANCE = 2\n",
    "    \n",
    "    score = (cGPADetails[\"meanScore\"] * W_MEAN\\\n",
    "             + cGPADetails[\"rangeScore\"] * W_RANGE\\\n",
    "             + cGPADetails[\"midrangeScore\"] * W_MIDRANGE\\\n",
    "             + cGPADetails[\"balanceScore\"] * W_BALANCE) / sum([W_MEAN, W_RANGE, W_MIDRANGE, W_BALANCE])\n",
    "    return score, cGPADetails\n",
    "\n",
    "# Returns a list of CGPA of the students in groupData\n",
    "def ExtractCGPA(*groupData) -> list:\n",
    "    if len(groupData) == 1 and type(groupData[0]) is list:\n",
    "        groupData = groupData[0]\n",
    "\n",
    "    cGPAs = []\n",
    "    for i in groupData:\n",
    "        cGPAs.append(i[\"CGPA\"])\n",
    "    return cGPAs\n",
    "\n",
    "# Returns a list of CGPA of the students in groupData\n",
    "def TutGrpExtractCGPA(tutGroupData) -> list:\n",
    "    cGPAs = []\n",
    "    for i in tutGroupData:\n",
    "        cGPAs.extend(ExtractCGPA(i))\n",
    "    return cGPAs"
   ]
  },
  {
   "cell_type": "code",
   "execution_count": 122,
   "id": "df4d4d72-38f2-4d9f-b4b9-dda267732d65",
   "metadata": {
    "scrolled": true
   },
   "outputs": [
    {
     "name": "stdout",
     "output_type": "stream",
     "text": [
      "4.1\n",
      "test group: 0\n",
      "ID: 3721              TG: 120               School: CoB (NBS)         Name: Samantha Lee      Gender: False             CGPA: 4.520-            \n",
      "ID: 5220              TG: 120               School: CoB (NBS)         Name: Rishi Singh       Gender: True              CGPA: 4.080-            \n",
      "ID: 3222              TG: 120               School: CCDS              Name: Kang Lei          Gender: False             CGPA: 4.040-            \n",
      "ID: 5835              TG: 120               School: MAE               Name: Samuel Cook       Gender: True              CGPA: 4.020-            \n",
      "ID: 822               TG: 120               School: CCEB              Name: Riku Tanaka       Gender: False             CGPA: 4.030-            \n",
      "ID: 4631              TG: 120               School: EEE               Name: Samantha Patel    Gender: False             CGPA: 4.000-            \n",
      "ID: 2420              TG: 120               School: CEE               Name: Faisal Bin Yusof  Gender: True              CGPA: 4.570-            \n",
      "ID: 2553              TG: 120               School: CoE               Name: Lucas Gonzalez    Gender: True              CGPA: 4.080-            \n",
      "\n",
      "Score:  78.43743781094527\n",
      "balance: -4                 mean: 4.168-            range: 0.570-            midrange: 4.285-            meanScore: 98.650-           rangeScore: 85.075-           midrangeScore: 88.250-           balanceScore: 50.000-           \n",
      "test group: 1\n",
      "ID: 4882              TG: 120               School: CoB (NBS)         Name: Charlotte Alexander Gender: False             CGPA: 4.140-            \n",
      "ID: 775               TG: 120               School: CCDS              Name: Ashok Patil       Gender: True              CGPA: 4.230-            \n",
      "ID: 2696              TG: 120               School: CCDS              Name: Samantha Cooper   Gender: False             CGPA: 4.030-            \n",
      "ID: 1317              TG: 120               School: MAE               Name: Tina Sun          Gender: False             CGPA: 4.000-            \n",
      "ID: 641               TG: 120               School: CCEB              Name: Joni Setiawan     Gender: True              CGPA: 3.900-            \n",
      "ID: 1475              TG: 120               School: CEE               Name: Deng Li           Gender: True              CGPA: 4.200-            \n",
      "ID: 3859              TG: 120               School: CoE               Name: Kai Wei           Gender: True              CGPA: 4.010-            \n",
      "\n",
      "Score:  86.46847903340444\n",
      "balance: -1                 mean: 4.073-            range: 0.330-            midrange: 4.065-            meanScore: 99.457-           rangeScore: 49.254-           midrangeScore: 99.214-           balanceScore: 85.714-           \n",
      "test group: 2\n",
      "ID: 1256              TG: 120               School: CoB (NBS)         Name: Omar Chen         Gender: True              CGPA: 4.140-            \n",
      "ID: 1957              TG: 120               School: CCDS              Name: Yani Santoso      Gender: False             CGPA: 4.200-            \n",
      "ID: 3187              TG: 120               School: MAE               Name: Fauzi Bin Zain    Gender: True              CGPA: 4.520-            \n",
      "ID: 2004              TG: 120               School: CCEB              Name: Rachel Yeo        Gender: False             CGPA: 4.250-            \n",
      "ID: 350               TG: 120               School: EEE               Name: Janet Ng          Gender: False             CGPA: 4.150-            \n",
      "ID: 5563              TG: 120               School: MSE               Name: Ruiwen            Gender: True              CGPA: 4.150-            \n",
      "ID: 2507              TG: 120               School: SSS               Name: Yani Rahmadani    Gender: False             CGPA: 4.000-            \n",
      "\n",
      "Score:  70.80675195451312\n",
      "balance: 5                 mean: 4.201-            range: 0.520-            midrange: 4.260-            meanScore: 97.971-           rangeScore: 77.612-           midrangeScore: 94.143-           balanceScore: 28.571-           \n",
      "test group: 3\n",
      "ID: 3750              TG: 120               School: CoB (NBS)         Name: Janelle Huang     Gender: False             CGPA: 4.120-            \n",
      "ID: 5006              TG: 120               School: CCDS              Name: Dong-Il Kim       Gender: True              CGPA: 4.100-            \n",
      "ID: 4070              TG: 120               School: MAE               Name: John Walker       Gender: True              CGPA: 4.260-            \n",
      "ID: 5205              TG: 120               School: CCEB              Name: Yara Price        Gender: False             CGPA: 4.200-            \n",
      "ID: 2805              TG: 120               School: EEE               Name: Nolan Foster      Gender: True              CGPA: 4.140-            \n",
      "ID: 92                TG: 120               School: CEE               Name: Victoria Choi     Gender: False             CGPA: 4.140-            \n",
      "ID: 440               TG: 120               School: CEE               Name: Levi Parker       Gender: True              CGPA: 4.040-            \n",
      "\n",
      "Score:  69.35358919687276\n",
      "balance: 4                 mean: 4.143-            range: 0.220-            midrange: 4.150-            meanScore: 99.143-           rangeScore: 32.836-           midrangeScore: 99.286-           balanceScore: 42.857-           \n",
      "test group: 4\n",
      "ID: 4719              TG: 120               School: CoB (NBS)         Name: Jackson Moore     Gender: True              CGPA: 4.110-            \n",
      "ID: 4218              TG: 120               School: CCDS              Name: Marcus Chen       Gender: True              CGPA: 4.100-            \n",
      "ID: 1568              TG: 120               School: MAE               Name: Briar Young       Gender: False             CGPA: 4.100-            \n",
      "ID: 3174              TG: 120               School: CCEB              Name: Yan Li            Gender: False             CGPA: 4.180-            \n",
      "ID: 3229              TG: 120               School: EEE               Name: Victor Andreyev   Gender: True              CGPA: 4.080-            \n",
      "ID: 2769              TG: 120               School: WKW SCI           Name: Jayden Clark      Gender: True              CGPA: 4.200-            \n",
      "ID: 390               TG: 120               School: ASE               Name: Sneha Chakraborty Gender: False             CGPA: 4.200-            \n",
      "\n",
      "Score:  71.75174129353233\n",
      "balance: 3                 mean: 4.139-            range: 0.120-            midrange: 4.140-            meanScore: 99.229-           rangeScore: 17.910-           midrangeScore: 99.857-           balanceScore: 57.143-           \n",
      "test group: 5\n",
      "ID: 5148              TG: 120               School: CoB (NBS)         Name: Isaac Wu          Gender: True              CGPA: 4.100-            \n",
      "ID: 1856              TG: 120               School: CCDS              Name: Derek Tan         Gender: True              CGPA: 4.040-            \n",
      "ID: 2685              TG: 120               School: MAE               Name: Oliver Wu         Gender: True              CGPA: 4.080-            \n",
      "ID: 5908              TG: 120               School: CCEB              Name: Taro Suzuki       Gender: True              CGPA: 4.160-            \n",
      "ID: 116               TG: 120               School: SoH               Name: Ava Rodriguez     Gender: False             CGPA: 4.040-            \n",
      "ID: 1179              TG: 120               School: LKCMedicine       Name: Yasmin Kaur       Gender: False             CGPA: 4.040-            \n",
      "ID: 4611              TG: 120               School: SBS               Name: Sophia White      Gender: False             CGPA: 4.020-            \n",
      "\n",
      "Score:  67.20163468372427\n",
      "balance: -4                 mean: 4.069-            range: 0.140-            midrange: 4.090-            meanScore: 99.371-           rangeScore: 20.896-           midrangeScore: 97.857-           balanceScore: 42.857-           \n",
      "test group: 6\n",
      "ID: 2008              TG: 120               School: CoB (NBS)         Name: Jasmine Khan      Gender: False             CGPA: 4.100-            \n",
      "ID: 3840              TG: 120               School: CCDS              Name: Giselle Bautista  Gender: False             CGPA: 4.040-            \n",
      "ID: 2703              TG: 120               School: MAE               Name: Ravi Gupta        Gender: True              CGPA: 4.030-            \n",
      "ID: 1182              TG: 120               School: CCEB              Name: Jessica Lee       Gender: False             CGPA: 4.100-            \n",
      "ID: 163               TG: 120               School: EEE               Name: Jing Chen         Gender: True              CGPA: 4.050-            \n",
      "ID: 3175              TG: 120               School: WKW SCI           Name: Christopher Harris Gender: True              CGPA: 4.020-            \n",
      "ID: 2945              TG: 120               School: NIE               Name: Yasir Shah        Gender: True              CGPA: 3.950-            \n",
      "\n",
      "Score:  62.590867093105885\n",
      "balance: -5                 mean: 4.041-            range: 0.150-            midrange: 4.025-            meanScore: 98.829-           rangeScore: 22.388-           midrangeScore: 98.357-           balanceScore: 28.571-           \n"
     ]
    }
   ],
   "source": [
    "#TODO : revise the calculation of balance factor by taking into account buckets rather than median\n",
    "testGroupData = finalGrps\n",
    "medianCGPA = Median(TutGrpExtractCGPA(testGroupData))\n",
    "rangeCGPA = Range(TutGrpExtractCGPA(testGroupData))\n",
    "print(medianCGPA)\n",
    "for i in range(len(testGroupData)):\n",
    "    print(f\"test group: {i}\")\n",
    "    PrintDictListNice(testGroupData[i])\n",
    "    print()\n",
    "    result = CalculateCGPADiversity(medianCGPA, rangeCGPA, testGroupData[i])\n",
    "    print(\"Score: \", result[0])\n",
    "    PrintDictListNice([result[1]])\n",
    "# print(testGroupData)\n"
   ]
  },
  {
   "cell_type": "markdown",
   "id": "16225eae-6d74-4f94-b072-0f2063ba8f3d",
   "metadata": {},
   "source": [
    "## Calculating the factors for each group"
   ]
  },
  {
   "cell_type": "code",
   "execution_count": 27,
   "id": "18c50b8d-5b40-41d1-8bdd-af37602bd8a6",
   "metadata": {},
   "outputs": [],
   "source": [
    "# Parameters:\n",
    "#  factors: list of strings of factor to check, same as the key in the dictionary\n",
    "#  groupsDatas: List of datas needed as a list of dictionaries\n",
    "# Return:\n",
    "#  leastDiverse: dictionary of {factor1: occurencesPercent, factor2: occurencesPercent ... } as string:int\n",
    "#  grpIdx: dictionary of the grps that have the least diversity for the factor {factor1: groups}\n",
    "def FindLeastDiverseInTutorialGroup(factors, *groupsDatas) -> (dict, list):\n",
    "    if len(groupsDatas) == 1 and type(groupsDatas[0]) is list:\n",
    "        groupsDatas = groupsDatas[0]\n",
    "\n",
    "    grpIdx = {}\n",
    "    leastDiverse = {}\n",
    "    for factor in factors:\n",
    "        # TODO: Special CGPA case\n",
    "        \n",
    "        # Set default value to replace\n",
    "        leastDiverseOccurence : float = (\"factorResult\", 0) # % of highest occurence, i.e. 90% of students are from ccds\n",
    "        currentGrp = 0\n",
    "        for i in groupsDatas:\n",
    "            occurence = FindMaxInDict(FindOccurencesInGroup(factor, i))\n",
    "            currentPercent = occurence[1] / len(i)\n",
    "            # Less diverse so replace\n",
    "            if currentPercent > leastDiverseOccurence[1]:\n",
    "                leastDiverseOccurence = (occurence[0], currentPercent)\n",
    "                grpIdx[factor] = [currentGrp]\n",
    "            # Same diversity so place\n",
    "            elif currentPercent == leastDiverseOccurence[1]:\n",
    "                leastDiverseOccurence = (list(leastDiverseOccurence[0] + occurence[0]), currentPercent)\n",
    "                grpIdx[factor].append(currentGrp)\n",
    "            currentGrp += 1\n",
    "        leastDiverse[factor] = leastDiverseOccurence\n",
    "    return leastDiverse, grpIdx"
   ]
  },
  {
   "cell_type": "code",
   "execution_count": 48,
   "id": "1a47262d-4bd9-4476-9abb-7ef3339c3bcc",
   "metadata": {
    "scrolled": true
   },
   "outputs": [
    {
     "name": "stdout",
     "output_type": "stream",
     "text": [
      "test group: 0\n",
      "ID: 3721              TG: 120               School: CoB (NBS)         Name: Samantha Lee      Gender: False             CGPA: 4.52              \n",
      "ID: 5220              TG: 120               School: CoB (NBS)         Name: Rishi Singh       Gender: True              CGPA: 4.08              \n",
      "ID: 3222              TG: 120               School: CCDS              Name: Kang Lei          Gender: False             CGPA: 4.04              \n",
      "ID: 5835              TG: 120               School: MAE               Name: Samuel Cook       Gender: True              CGPA: 4.02              \n",
      "ID: 822               TG: 120               School: CCEB              Name: Riku Tanaka       Gender: False             CGPA: 4.03              \n",
      "ID: 4631              TG: 120               School: EEE               Name: Samantha Patel    Gender: False             CGPA: 4.0               \n",
      "ID: 2420              TG: 120               School: CEE               Name: Faisal Bin Yusof  Gender: True              CGPA: 4.57              \n",
      "ID: 2553              TG: 120               School: CoE               Name: Lucas Gonzalez    Gender: True              CGPA: 4.08              \n",
      "\n",
      "test group: 1\n",
      "ID: 4882              TG: 120               School: CoB (NBS)         Name: Charlotte Alexander Gender: False             CGPA: 4.14              \n",
      "ID: 775               TG: 120               School: CCDS              Name: Ashok Patil       Gender: True              CGPA: 4.23              \n",
      "ID: 2696              TG: 120               School: CCDS              Name: Samantha Cooper   Gender: False             CGPA: 4.03              \n",
      "ID: 1317              TG: 120               School: MAE               Name: Tina Sun          Gender: False             CGPA: 4.0               \n",
      "ID: 641               TG: 120               School: CCEB              Name: Joni Setiawan     Gender: True              CGPA: 3.9               \n",
      "ID: 1475              TG: 120               School: CEE               Name: Deng Li           Gender: True              CGPA: 4.2               \n",
      "ID: 3859              TG: 120               School: CoE               Name: Kai Wei           Gender: True              CGPA: 4.01              \n",
      "\n",
      "test group: 2\n",
      "ID: 1256              TG: 120               School: CoB (NBS)         Name: Omar Chen         Gender: True              CGPA: 4.14              \n",
      "ID: 1957              TG: 120               School: CCDS              Name: Yani Santoso      Gender: False             CGPA: 4.2               \n",
      "ID: 3187              TG: 120               School: MAE               Name: Fauzi Bin Zain    Gender: True              CGPA: 4.52              \n",
      "ID: 2004              TG: 120               School: CCEB              Name: Rachel Yeo        Gender: False             CGPA: 4.25              \n",
      "ID: 350               TG: 120               School: EEE               Name: Janet Ng          Gender: False             CGPA: 4.15              \n",
      "ID: 5563              TG: 120               School: MSE               Name: Ruiwen            Gender: True              CGPA: 4.15              \n",
      "ID: 2507              TG: 120               School: SSS               Name: Yani Rahmadani    Gender: False             CGPA: 4.0               \n",
      "\n",
      "test group: 3\n",
      "ID: 3750              TG: 120               School: CoB (NBS)         Name: Janelle Huang     Gender: False             CGPA: 4.12              \n",
      "ID: 5006              TG: 120               School: CCDS              Name: Dong-Il Kim       Gender: True              CGPA: 4.1               \n",
      "ID: 4070              TG: 120               School: MAE               Name: John Walker       Gender: True              CGPA: 4.26              \n",
      "ID: 5205              TG: 120               School: CCEB              Name: Yara Price        Gender: False             CGPA: 4.2               \n",
      "ID: 2805              TG: 120               School: EEE               Name: Nolan Foster      Gender: True              CGPA: 4.14              \n",
      "ID: 92                TG: 120               School: CEE               Name: Victoria Choi     Gender: False             CGPA: 4.14              \n",
      "ID: 440               TG: 120               School: CEE               Name: Levi Parker       Gender: True              CGPA: 4.04              \n",
      "\n",
      "test group: 4\n",
      "ID: 4719              TG: 120               School: CoB (NBS)         Name: Jackson Moore     Gender: True              CGPA: 4.11              \n",
      "ID: 4218              TG: 120               School: CCDS              Name: Marcus Chen       Gender: True              CGPA: 4.1               \n",
      "ID: 1568              TG: 120               School: MAE               Name: Briar Young       Gender: False             CGPA: 4.1               \n",
      "ID: 3174              TG: 120               School: CCEB              Name: Yan Li            Gender: False             CGPA: 4.18              \n",
      "ID: 3229              TG: 120               School: EEE               Name: Victor Andreyev   Gender: True              CGPA: 4.08              \n",
      "ID: 2769              TG: 120               School: WKW SCI           Name: Jayden Clark      Gender: True              CGPA: 4.2               \n",
      "ID: 390               TG: 120               School: ASE               Name: Sneha Chakraborty Gender: False             CGPA: 4.2               \n",
      "\n",
      "test group: 5\n",
      "ID: 5148              TG: 120               School: CoB (NBS)         Name: Isaac Wu          Gender: True              CGPA: 4.1               \n",
      "ID: 1856              TG: 120               School: CCDS              Name: Derek Tan         Gender: True              CGPA: 4.04              \n",
      "ID: 2685              TG: 120               School: MAE               Name: Oliver Wu         Gender: True              CGPA: 4.08              \n",
      "ID: 5908              TG: 120               School: CCEB              Name: Taro Suzuki       Gender: True              CGPA: 4.16              \n",
      "ID: 116               TG: 120               School: SoH               Name: Ava Rodriguez     Gender: False             CGPA: 4.04              \n",
      "ID: 1179              TG: 120               School: LKCMedicine       Name: Yasmin Kaur       Gender: False             CGPA: 4.04              \n",
      "ID: 4611              TG: 120               School: SBS               Name: Sophia White      Gender: False             CGPA: 4.02              \n",
      "\n",
      "test group: 6\n",
      "ID: 2008              TG: 120               School: CoB (NBS)         Name: Jasmine Khan      Gender: False             CGPA: 4.1               \n",
      "ID: 3840              TG: 120               School: CCDS              Name: Giselle Bautista  Gender: False             CGPA: 4.04              \n",
      "ID: 2703              TG: 120               School: MAE               Name: Ravi Gupta        Gender: True              CGPA: 4.03              \n",
      "ID: 1182              TG: 120               School: CCEB              Name: Jessica Lee       Gender: False             CGPA: 4.1               \n",
      "ID: 163               TG: 120               School: EEE               Name: Jing Chen         Gender: True              CGPA: 4.05              \n",
      "ID: 3175              TG: 120               School: WKW SCI           Name: Christopher Harris Gender: True              CGPA: 4.02              \n",
      "ID: 2945              TG: 120               School: NIE               Name: Yasir Shah        Gender: True              CGPA: 3.95              \n",
      "\n",
      "School: (['CCDS', 'CEE'], 0.2857142857142857) Gender: ([True, False, True, True, True, True], 0.5714285714285714) CGPA: ([4.04], 0.42857142857142855) \n",
      "School: [1, 3]            Gender: [1, 2, 3, 4, 5, 6] CGPA: [5]               \n"
     ]
    }
   ],
   "source": [
    "testGroupData = finalGrps\n",
    "for i in range(len(testGroupData)):\n",
    "    print(f\"test group: {i}\")\n",
    "    PrintDictListNice(testGroupData[i])\n",
    "    print()\n",
    "# print(testGroupData)\n",
    "PrintDictListNice(FindLeastDiverseInTutorialGroup([\"School\", \"Gender\", \"CGPA\"], testGroupData))"
   ]
  },
  {
   "cell_type": "code",
   "execution_count": 24,
   "id": "c70dc59b-07a3-4314-870f-8bae9b64a2af",
   "metadata": {},
   "outputs": [],
   "source": [
    "# Weights\n",
    "CRITERA_WEIGHTS = {\"CGPA\": 100, \"SCHOOL\": 100, \"GENDER\": 100}"
   ]
  },
  {
   "cell_type": "markdown",
   "id": "72e04807-b86c-45f3-9fd8-df44698e9b88",
   "metadata": {},
   "source": [
    "# Graphical plots and things"
   ]
  },
  {
   "cell_type": "code",
   "execution_count": null,
   "id": "f6eb9efe-9847-49fc-8aff-9764d084d1b9",
   "metadata": {},
   "outputs": [],
   "source": []
  },
  {
   "cell_type": "markdown",
   "id": "3fbf2a01-942a-4e21-ac2f-d10787a27347",
   "metadata": {},
   "source": [
    "# Challenges and Issues"
   ]
  },
  {
   "cell_type": "markdown",
   "id": "4be7c74b-5f79-4f25-b783-43d19a451206",
   "metadata": {},
   "source": [
    "- "
   ]
  },
  {
   "cell_type": "markdown",
   "id": "683b2fee-bc9c-416a-8148-c5ee91547f34",
   "metadata": {},
   "source": [
    "# Conclusion"
   ]
  },
  {
   "cell_type": "markdown",
   "id": "d30017e2-afbf-4192-ba46-6d54bfe0e7ac",
   "metadata": {},
   "source": [
    "# Debug test things or test cases?\n",
    "doubt they will give marks for test cases tho, prob just leave this for our own use and remove before submission\n",
    "Highlight"
   ]
  },
  {
   "cell_type": "code",
   "execution_count": 94,
   "id": "ab46be42-393c-489d-b43e-2e377837f457",
   "metadata": {},
   "outputs": [],
   "source": [
    "def PrintDictListNice(dictionaryList, spacing : int = 18):\n",
    "    for i in dictionaryList:\n",
    "        for k,v in i.items():\n",
    "            contentLength = 10\n",
    "            if type(v) is float:\n",
    "                v = f\"{v:.3f}-\"\n",
    "            if type(v) is int:\n",
    "                contentLength = log10(v) + 1\n",
    "            else:\n",
    "                contentLength = len(str(v))\n",
    "            # elif type(v) is bool:\n",
    "            #     contentLength = len(str(v))\n",
    "            print(f\"{k}: {v}{' ' * max(spacing - contentLength, 1)}\", end = '')\n",
    "        print()\n",
    "def log10(num):\n",
    "    count = 0\n",
    "    while num >= 10:\n",
    "        num /= 10\n",
    "        count += 1\n",
    "    return count"
   ]
  },
  {
   "cell_type": "code",
   "execution_count": 95,
   "id": "635fb41c-2dd2-4924-a50e-7c94dfed7fa4",
   "metadata": {},
   "outputs": [
    {
     "name": "stdout",
     "output_type": "stream",
     "text": [
      "0\n",
      "1\n",
      "1\n",
      "4\n",
      "test: 4.237-            a: g                 \n"
     ]
    }
   ],
   "source": [
    "print(log10(1))\n",
    "print(log10(20))\n",
    "print(log10(34))\n",
    "print(log10(64280))\n",
    "d = {\"test\" : 4.236752387546, \"a\" : \"g\"}\n",
    "PrintDictListNice([d])"
   ]
  },
  {
   "cell_type": "code",
   "execution_count": null,
   "id": "6590729b-d91c-4d6a-831b-79a5b9a290e5",
   "metadata": {},
   "outputs": [],
   "source": []
  }
 ],
 "metadata": {
  "kernelspec": {
   "display_name": "Python 3 (ipykernel)",
   "language": "python",
   "name": "python3"
  },
  "language_info": {
   "codemirror_mode": {
    "name": "ipython",
    "version": 3
   },
   "file_extension": ".py",
   "mimetype": "text/x-python",
   "name": "python",
   "nbconvert_exporter": "python",
   "pygments_lexer": "ipython3",
   "version": "3.10.6"
  }
 },
 "nbformat": 4,
 "nbformat_minor": 5
}
