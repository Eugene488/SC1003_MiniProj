{
 "cells": [
  {
   "cell_type": "markdown",
   "id": "830b69ce-1ac2-4210-a5b0-0aad1d737950",
   "metadata": {},
   "source": [
    "AAAAAAAAA\n",
    "AasdF\n",
    "fJLNAD"
   ]
  },
  {
   "cell_type": "code",
   "execution_count": null,
   "id": "781e9027-7c8c-4188-a7ac-a4cb9b9305af",
   "metadata": {},
   "outputs": [],
   "source": []
  },
  {
   "cell_type": "code",
   "execution_count": null,
   "id": "fa228e57-6149-418a-91dc-e9409315034d",
   "metadata": {},
   "outputs": [],
   "source": []
  },
  {
   "cell_type": "code",
   "execution_count": null,
   "id": "a968093a-7204-4515-b011-ed80e3e133bd",
   "metadata": {},
   "outputs": [],
   "source": []
  }
 ],
 "metadata": {
  "kernelspec": {
   "display_name": "Python 3 (ipykernel)",
   "language": "python",
   "name": "python3"
  },
  "language_info": {
   "codemirror_mode": {
    "name": "ipython",
    "version": 3
   },
   "file_extension": ".py",
   "mimetype": "text/x-python",
   "name": "python",
   "nbconvert_exporter": "python",
   "pygments_lexer": "ipython3",
   "version": "3.13.6"
  }
 },
 "nbformat": 4,
 "nbformat_minor": 5
}
