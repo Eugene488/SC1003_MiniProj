{
 "cells": [
  {
   "cell_type": "markdown",
   "id": "7f8292ed-0900-433c-9747-8599656be677",
   "metadata": {},
   "source": [
    "# Introduction\n",
    "Group members(& emails?):"
   ]
  },
  {
   "cell_type": "markdown",
   "id": "52b8612e-0ec5-440a-8f73-8c127bbf5047",
   "metadata": {},
   "source": [
    "# Table of contents\n",
    "TODO: titles with internal links to move there"
   ]
  },
  {
   "cell_type": "markdown",
   "id": "1ce1ec75-e2aa-4007-b69b-5bc2b7ad66bb",
   "metadata": {},
   "source": [
    "# Decomposition and breakdown\n",
    "\n",
    "blah blah"
   ]
  },
  {
   "cell_type": "markdown",
   "id": "5789d277-6b7e-4b5a-9c25-243b8c87dc45",
   "metadata": {},
   "source": [
    "# Analysis of data given (records.csv)"
   ]
  },
  {
   "cell_type": "markdown",
   "id": "b0d03c7a-c0a1-4904-b478-2c476d5fac6d",
   "metadata": {},
   "source": [
    "# Planning and design of algorithm\n",
    "insert diagram drawn by Cherry here"
   ]
  },
  {
   "cell_type": "markdown",
   "id": "78b063c2-5286-415b-ae07-ff2a79b1c407",
   "metadata": {},
   "source": [
    "## Flowchart and pseudocode\n",
    "\n",
    "lorem ipsum"
   ]
  },
  {
   "cell_type": "markdown",
   "id": "830b69ce-1ac2-4210-a5b0-0aad1d737950",
   "metadata": {},
   "source": [
    "# Excel things"
   ]
  },
  {
   "cell_type": "code",
   "execution_count": null,
   "id": "9f6afe4f-e289-4867-9fcc-03e5773eece8",
   "metadata": {},
   "outputs": [],
   "source": []
  },
  {
   "cell_type": "code",
   "execution_count": null,
   "id": "35a2ba2e-f8a2-4729-9604-6b3a414d4c03",
   "metadata": {},
   "outputs": [],
   "source": []
  },
  {
   "cell_type": "markdown",
   "id": "2b4b9ab2-adca-4282-80d3-b28fa13fb7bc",
   "metadata": {},
   "source": [
    "# Algo for sorting"
   ]
  },
  {
   "cell_type": "code",
   "execution_count": null,
   "id": "1dcda656-0400-49ce-a8d7-7c12e8191cf3",
   "metadata": {},
   "outputs": [],
   "source": []
  },
  {
   "cell_type": "markdown",
   "id": "d72a4d7a-2a77-48dc-b97e-f13cdc6fb2bf",
   "metadata": {},
   "source": [
    "# Getting it back into an excel file and things"
   ]
  },
  {
   "cell_type": "markdown",
   "id": "d192e7ce-87e7-4ee8-8723-87dbb37385cb",
   "metadata": {},
   "source": [
    "# Algorithm Evaluation"
   ]
  },
  {
   "cell_type": "code",
   "execution_count": 2,
   "id": "c70dc59b-07a3-4314-870f-8bae9b64a2af",
   "metadata": {},
   "outputs": [],
   "source": [
    "# Weights\n",
    "CRITERA_WEIGHTS = {\"CGPA\": 100, \"SCHOOL\": 100, \"GENDER\": 100}"
   ]
  },
  {
   "cell_type": "code",
   "execution_count": null,
   "id": "23d756f7-8f7b-474e-a291-5b574aee7b25",
   "metadata": {},
   "outputs": [],
   "source": []
  },
  {
   "cell_type": "markdown",
   "id": "72e04807-b86c-45f3-9fd8-df44698e9b88",
   "metadata": {},
   "source": [
    "# Graphical plots and things"
   ]
  },
  {
   "cell_type": "code",
   "execution_count": null,
   "id": "f6eb9efe-9847-49fc-8aff-9764d084d1b9",
   "metadata": {},
   "outputs": [],
   "source": []
  },
  {
   "cell_type": "markdown",
   "id": "3fbf2a01-942a-4e21-ac2f-d10787a27347",
   "metadata": {},
   "source": [
    "# Challenges and Issues"
   ]
  },
  {
   "cell_type": "markdown",
   "id": "683b2fee-bc9c-416a-8148-c5ee91547f34",
   "metadata": {},
   "source": [
    "# Conclusion"
   ]
  },
  {
   "cell_type": "markdown",
   "id": "d30017e2-afbf-4192-ba46-6d54bfe0e7ac",
   "metadata": {},
   "source": [
    "# Debug test things or test cases?\n",
    "doubt they will give marks for test cases tho, prob just leave this for our own use and remove before submission\n",
    "Highlight"
   ]
  },
  {
   "cell_type": "code",
   "execution_count": null,
   "id": "ab46be42-393c-489d-b43e-2e377837f457",
   "metadata": {},
   "outputs": [],
   "source": []
  },
  {
   "cell_type": "code",
   "execution_count": null,
   "id": "635fb41c-2dd2-4924-a50e-7c94dfed7fa4",
   "metadata": {},
   "outputs": [],
   "source": []
  }
 ],
 "metadata": {
  "kernelspec": {
   "display_name": "Python 3 (ipykernel)",
   "language": "python",
   "name": "python3"
  },
  "language_info": {
   "codemirror_mode": {
    "name": "ipython",
    "version": 3
   },
   "file_extension": ".py",
   "mimetype": "text/x-python",
   "name": "python",
   "nbconvert_exporter": "python",
   "pygments_lexer": "ipython3",
   "version": "3.13.6"
  }
 },
 "nbformat": 4,
 "nbformat_minor": 5
}
